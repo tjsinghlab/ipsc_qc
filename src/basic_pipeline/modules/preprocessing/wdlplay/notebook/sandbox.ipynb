{
 "cells": [
  {
   "cell_type": "code",
   "execution_count": 2,
   "metadata": {},
   "outputs": [
    {
     "data": {
      "text/html": [
       "<style>.container { width:100% !important; }</style>"
      ],
      "text/plain": [
       "<IPython.core.display.HTML object>"
      ]
     },
     "metadata": {},
     "output_type": "display_data"
    },
    {
     "data": {
      "text/html": [
       "\n",
       "    <div class=\"bk-root\">\n",
       "        <a href=\"https://bokeh.org\" target=\"_blank\" class=\"bk-logo bk-logo-small bk-logo-notebook\"></a>\n",
       "        <span id=\"1002\">Loading BokehJS ...</span>\n",
       "    </div>"
      ]
     },
     "metadata": {},
     "output_type": "display_data"
    },
    {
     "data": {
      "application/javascript": "\n(function(root) {\n  function now() {\n    return new Date();\n  }\n\n  var force = true;\n\n  if (typeof root._bokeh_onload_callbacks === \"undefined\" || force === true) {\n    root._bokeh_onload_callbacks = [];\n    root._bokeh_is_loading = undefined;\n  }\n\n  var JS_MIME_TYPE = 'application/javascript';\n  var HTML_MIME_TYPE = 'text/html';\n  var EXEC_MIME_TYPE = 'application/vnd.bokehjs_exec.v0+json';\n  var CLASS_NAME = 'output_bokeh rendered_html';\n\n  /**\n   * Render data to the DOM node\n   */\n  function render(props, node) {\n    var script = document.createElement(\"script\");\n    node.appendChild(script);\n  }\n\n  /**\n   * Handle when an output is cleared or removed\n   */\n  function handleClearOutput(event, handle) {\n    var cell = handle.cell;\n\n    var id = cell.output_area._bokeh_element_id;\n    var server_id = cell.output_area._bokeh_server_id;\n    // Clean up Bokeh references\n    if (id != null && id in Bokeh.index) {\n      Bokeh.index[id].model.document.clear();\n      delete Bokeh.index[id];\n    }\n\n    if (server_id !== undefined) {\n      // Clean up Bokeh references\n      var cmd = \"from bokeh.io.state import curstate; print(curstate().uuid_to_server['\" + server_id + \"'].get_sessions()[0].document.roots[0]._id)\";\n      cell.notebook.kernel.execute(cmd, {\n        iopub: {\n          output: function(msg) {\n            var id = msg.content.text.trim();\n            if (id in Bokeh.index) {\n              Bokeh.index[id].model.document.clear();\n              delete Bokeh.index[id];\n            }\n          }\n        }\n      });\n      // Destroy server and session\n      var cmd = \"import bokeh.io.notebook as ion; ion.destroy_server('\" + server_id + \"')\";\n      cell.notebook.kernel.execute(cmd);\n    }\n  }\n\n  /**\n   * Handle when a new output is added\n   */\n  function handleAddOutput(event, handle) {\n    var output_area = handle.output_area;\n    var output = handle.output;\n\n    // limit handleAddOutput to display_data with EXEC_MIME_TYPE content only\n    if ((output.output_type != \"display_data\") || (!output.data.hasOwnProperty(EXEC_MIME_TYPE))) {\n      return\n    }\n\n    var toinsert = output_area.element.find(\".\" + CLASS_NAME.split(' ')[0]);\n\n    if (output.metadata[EXEC_MIME_TYPE][\"id\"] !== undefined) {\n      toinsert[toinsert.length - 1].firstChild.textContent = output.data[JS_MIME_TYPE];\n      // store reference to embed id on output_area\n      output_area._bokeh_element_id = output.metadata[EXEC_MIME_TYPE][\"id\"];\n    }\n    if (output.metadata[EXEC_MIME_TYPE][\"server_id\"] !== undefined) {\n      var bk_div = document.createElement(\"div\");\n      bk_div.innerHTML = output.data[HTML_MIME_TYPE];\n      var script_attrs = bk_div.children[0].attributes;\n      for (var i = 0; i < script_attrs.length; i++) {\n        toinsert[toinsert.length - 1].firstChild.setAttribute(script_attrs[i].name, script_attrs[i].value);\n      }\n      // store reference to server id on output_area\n      output_area._bokeh_server_id = output.metadata[EXEC_MIME_TYPE][\"server_id\"];\n    }\n  }\n\n  function register_renderer(events, OutputArea) {\n\n    function append_mime(data, metadata, element) {\n      // create a DOM node to render to\n      var toinsert = this.create_output_subarea(\n        metadata,\n        CLASS_NAME,\n        EXEC_MIME_TYPE\n      );\n      this.keyboard_manager.register_events(toinsert);\n      // Render to node\n      var props = {data: data, metadata: metadata[EXEC_MIME_TYPE]};\n      render(props, toinsert[toinsert.length - 1]);\n      element.append(toinsert);\n      return toinsert\n    }\n\n    /* Handle when an output is cleared or removed */\n    events.on('clear_output.CodeCell', handleClearOutput);\n    events.on('delete.Cell', handleClearOutput);\n\n    /* Handle when a new output is added */\n    events.on('output_added.OutputArea', handleAddOutput);\n\n    /**\n     * Register the mime type and append_mime function with output_area\n     */\n    OutputArea.prototype.register_mime_type(EXEC_MIME_TYPE, append_mime, {\n      /* Is output safe? */\n      safe: true,\n      /* Index of renderer in `output_area.display_order` */\n      index: 0\n    });\n  }\n\n  // register the mime type if in Jupyter Notebook environment and previously unregistered\n  if (root.Jupyter !== undefined) {\n    var events = require('base/js/events');\n    var OutputArea = require('notebook/js/outputarea').OutputArea;\n\n    if (OutputArea.prototype.mime_types().indexOf(EXEC_MIME_TYPE) == -1) {\n      register_renderer(events, OutputArea);\n    }\n  }\n\n  \n  if (typeof (root._bokeh_timeout) === \"undefined\" || force === true) {\n    root._bokeh_timeout = Date.now() + 5000;\n    root._bokeh_failed_load = false;\n  }\n\n  var NB_LOAD_WARNING = {'data': {'text/html':\n     \"<div style='background-color: #fdd'>\\n\"+\n     \"<p>\\n\"+\n     \"BokehJS does not appear to have successfully loaded. If loading BokehJS from CDN, this \\n\"+\n     \"may be due to a slow or bad network connection. Possible fixes:\\n\"+\n     \"</p>\\n\"+\n     \"<ul>\\n\"+\n     \"<li>re-rerun `output_notebook()` to attempt to load from CDN again, or</li>\\n\"+\n     \"<li>use INLINE resources instead, as so:</li>\\n\"+\n     \"</ul>\\n\"+\n     \"<code>\\n\"+\n     \"from bokeh.resources import INLINE\\n\"+\n     \"output_notebook(resources=INLINE)\\n\"+\n     \"</code>\\n\"+\n     \"</div>\"}};\n\n  function display_loaded() {\n    var el = document.getElementById(\"1002\");\n    if (el != null) {\n      el.textContent = \"BokehJS is loading...\";\n    }\n    if (root.Bokeh !== undefined) {\n      if (el != null) {\n        el.textContent = \"BokehJS \" + root.Bokeh.version + \" successfully loaded.\";\n      }\n    } else if (Date.now() < root._bokeh_timeout) {\n      setTimeout(display_loaded, 100)\n    }\n  }\n\n\n  function run_callbacks() {\n    try {\n      root._bokeh_onload_callbacks.forEach(function(callback) {\n        if (callback != null)\n          callback();\n      });\n    } finally {\n      delete root._bokeh_onload_callbacks\n    }\n    console.debug(\"Bokeh: all callbacks have finished\");\n  }\n\n  function load_libs(css_urls, js_urls, callback) {\n    if (css_urls == null) css_urls = [];\n    if (js_urls == null) js_urls = [];\n\n    root._bokeh_onload_callbacks.push(callback);\n    if (root._bokeh_is_loading > 0) {\n      console.debug(\"Bokeh: BokehJS is being loaded, scheduling callback at\", now());\n      return null;\n    }\n    if (js_urls == null || js_urls.length === 0) {\n      run_callbacks();\n      return null;\n    }\n    console.debug(\"Bokeh: BokehJS not loaded, scheduling load and callback at\", now());\n    root._bokeh_is_loading = css_urls.length + js_urls.length;\n\n    function on_load() {\n      root._bokeh_is_loading--;\n      if (root._bokeh_is_loading === 0) {\n        console.debug(\"Bokeh: all BokehJS libraries/stylesheets loaded\");\n        run_callbacks()\n      }\n    }\n\n    function on_error() {\n      console.error(\"failed to load \" + url);\n    }\n\n    for (var i = 0; i < css_urls.length; i++) {\n      var url = css_urls[i];\n      const element = document.createElement(\"link\");\n      element.onload = on_load;\n      element.onerror = on_error;\n      element.rel = \"stylesheet\";\n      element.type = \"text/css\";\n      element.href = url;\n      console.debug(\"Bokeh: injecting link tag for BokehJS stylesheet: \", url);\n      document.body.appendChild(element);\n    }\n\n    for (var i = 0; i < js_urls.length; i++) {\n      var url = js_urls[i];\n      var element = document.createElement('script');\n      element.onload = on_load;\n      element.onerror = on_error;\n      element.async = false;\n      element.src = url;\n      console.debug(\"Bokeh: injecting script tag for BokehJS library: \", url);\n      document.head.appendChild(element);\n    }\n  };var element = document.getElementById(\"1002\");\n  if (element == null) {\n    console.error(\"Bokeh: ERROR: autoload.js configured with elementid '1002' but no matching script tag was found. \")\n    return false;\n  }\n\n  function inject_raw_css(css) {\n    const element = document.createElement(\"style\");\n    element.appendChild(document.createTextNode(css));\n    document.body.appendChild(element);\n  }\n\n  \n  var js_urls = [\"https://cdn.pydata.org/bokeh/release/bokeh-1.4.0.min.js\", \"https://cdn.pydata.org/bokeh/release/bokeh-widgets-1.4.0.min.js\", \"https://cdn.pydata.org/bokeh/release/bokeh-tables-1.4.0.min.js\", \"https://cdn.pydata.org/bokeh/release/bokeh-gl-1.4.0.min.js\"];\n  var css_urls = [];\n  \n\n  var inline_js = [\n    function(Bokeh) {\n      Bokeh.set_log_level(\"info\");\n    },\n    function(Bokeh) {\n    \n    \n    }\n  ];\n\n  function run_inline_js() {\n    \n    if (root.Bokeh !== undefined || force === true) {\n      \n    for (var i = 0; i < inline_js.length; i++) {\n      inline_js[i].call(root, root.Bokeh);\n    }\n    if (force === true) {\n        display_loaded();\n      }} else if (Date.now() < root._bokeh_timeout) {\n      setTimeout(run_inline_js, 100);\n    } else if (!root._bokeh_failed_load) {\n      console.log(\"Bokeh: BokehJS failed to load within specified timeout.\");\n      root._bokeh_failed_load = true;\n    } else if (force !== true) {\n      var cell = $(document.getElementById(\"1002\")).parents('.cell').data().cell;\n      cell.output_area.append_execute_result(NB_LOAD_WARNING)\n    }\n\n  }\n\n  if (root._bokeh_is_loading === 0) {\n    console.debug(\"Bokeh: BokehJS loaded, going straight to plotting\");\n    run_inline_js();\n  } else {\n    load_libs(css_urls, js_urls, function() {\n      console.debug(\"Bokeh: BokehJS plotting callback run at\", now());\n      run_inline_js();\n    });\n  }\n}(window));",
      "application/vnd.bokehjs_load.v0+json": ""
     },
     "metadata": {},
     "output_type": "display_data"
    }
   ],
   "source": [
    "# %%\n",
    "import os\n",
    "import sys\n",
    "import re\n",
    "import tempfile\n",
    "\n",
    "import logging\n",
    "logging.basicConfig(level = logging.INFO)\n",
    "logger = logging.getLogger(__name__)\n",
    "\n",
    "# %%\n",
    "from IPython.core.display import display, HTML\n",
    "display(HTML(\"<style>.container { width:100% !important; }</style>\"))\n",
    "\n",
    "from bokeh.io import show, output_notebook\n",
    "from bokeh.layouts import gridplot\n",
    "output_notebook()\n"
   ]
  },
  {
   "cell_type": "code",
   "execution_count": 2,
   "metadata": {},
   "outputs": [],
   "source": [
    "import hail as hl\n",
    "import json"
   ]
  },
  {
   "cell_type": "code",
   "execution_count": 3,
   "metadata": {},
   "outputs": [],
   "source": [
    "from wdlplay.wdlplayer import wdlplayer\n",
    "from findhere import here, init_directories, set_cloud, reldir, relpath"
   ]
  },
  {
   "cell_type": "code",
   "execution_count": 4,
   "metadata": {},
   "outputs": [],
   "source": [
    "os.environ['VERSION'] = '0.1'\n",
    "cloudir, localdir, filedir = init_directories(\n",
    "    os.path.abspath('.') + '/' + 'sandbox.ipynb', relbase='notebook')"
   ]
  },
  {
   "cell_type": "code",
   "execution_count": 8,
   "metadata": {},
   "outputs": [
    {
     "data": {
      "text/plain": [
       "('gs://wdlplay/data/0.1',\n",
       " '/Users/tsingh/repos/wdlplay/data/0.1',\n",
       " '/Users/tsingh/repos/wdlplay/notebook')"
      ]
     },
     "execution_count": 8,
     "metadata": {},
     "output_type": "execute_result"
    }
   ],
   "source": [
    "cloudir, localdir, filedir"
   ]
  },
  {
   "cell_type": "code",
   "execution_count": 16,
   "metadata": {},
   "outputs": [],
   "source": [
    "is_cloud = True\n",
    "set_cloud(cloud=is_cloud)\n",
    "\n",
    "cloudir = 'gs://schema2'\n",
    "localdir='/Users/tsingh/repos/wdlplay/notebook'\n",
    "runner = wdlplayer(outdir=cloudir, filedir=filedir, \n",
    "                   tmpdir=os.path.join(cloudir,'caper_tmp'),\n",
    "    project='daly-neale-sczmeta', \n",
    "    zone='us-central1-a')\n"
   ]
  },
  {
   "cell_type": "code",
   "execution_count": 10,
   "metadata": {},
   "outputs": [],
   "source": [
    "#wdl = here('/Users/tsingh/external-repos/warp/pipelines/broad/reprocessing/exome/ExomeReprocessing.wdl', local=True)\n",
    "wdl = here('wdl/hello-world/hello-world.wdl', local=True)\n",
    "inputs = runner.get_inputs(wdl)"
   ]
  },
  {
   "cell_type": "code",
   "execution_count": 11,
   "metadata": {},
   "outputs": [],
   "source": [
    "inputs = {\n",
    "    \"HelloInput.name\": \"TJ is happy dappy.\"\n",
    "}"
   ]
  },
  {
   "cell_type": "code",
   "execution_count": 17,
   "metadata": {},
   "outputs": [
    {
     "name": "stderr",
     "output_type": "stream",
     "text": [
      "INFO:wdlplay.wdlplayer:Command: caper run /Users/tsingh/repos/wdlplay/wdl/hello-world/hello-world.wdl --inputs /Users/tsingh/repos/wdlplay/notebook/script/0.1/run1.hello-world.json --str-label hello-world --backend gcp --gcp-prj daly-neale-sczmeta --gcp-zones us-central1-a --gcp-out-dir gs://schema2 --gcp-loc-dir gs://schema2/caper_tmp --use-google-cloud-life-sciences\n"
     ]
    },
    {
     "name": "stdout",
     "output_type": "stream",
     "text": [
      "2022-07-11 11:24:01,008|caper.cli|INFO| Cromwell stdout: /Users/tsingh/repos/wdlplay/notebook/cromwell.out\n",
      "2022-07-11 11:24:01,008|caper.caper_base|INFO| Creating a timestamped temporary directory. /Users/tsingh/repos/wdlplay/notebook/.caper_tmp/hello-world/20220711_112401_008463\n",
      "2022-07-11 11:24:01,008|caper.caper_runner|INFO| Localizing files on work_dir. /Users/tsingh/repos/wdlplay/notebook/.caper_tmp/hello-world/20220711_112401_008463\n",
      "2022-07-11 11:24:01,008|autouri.autouri|INFO| cp: (35096f5b) started. src=/Users/tsingh/repos/wdlplay/notebook/script/0.1/run1.hello-world.json, dest=gs://schema2/caper_tmp/Users/tsingh/repos/wdlplay/notebook/script/0.1/run1.hello-world.json\n",
      "2022-07-11 11:24:07,193|autouri.autouri|INFO| cp: (35096f5b) done.\n",
      "2022-07-11 11:24:07,656|caper.caper_workflow_opts|INFO| Docker image not found in WDL metadata. wdl=/Users/tsingh/repos/wdlplay/wdl/hello-world/hello-world.wdl\n",
      "2022-07-11 11:24:07,658|caper.cromwell|INFO| Validating WDL/inputs/imports with Womtool...\n",
      "2022-07-11 11:24:10,494|caper.nb_subproc_thread|INFO| Subprocess finished successfully.\n",
      "2022-07-11 11:24:10,495|caper.cromwell|INFO| Passed Womtool validation.\n",
      "2022-07-11 11:24:10,496|caper.caper_runner|INFO| launching run: wdl=/Users/tsingh/repos/wdlplay/wdl/hello-world/hello-world.wdl, inputs=/Users/tsingh/repos/wdlplay/notebook/script/0.1/run1.hello-world.json, backend_conf=/Users/tsingh/repos/wdlplay/notebook/.caper_tmp/hello-world/20220711_112401_008463/backend.conf\n",
      "2022-07-11 11:24:26,349|caper.cromwell_workflow_monitor|INFO| Workflow: id=78209460-0005-47ff-8348-5b03f8aacaea, status=Submitted\n",
      "2022-07-11 11:24:26,674|caper.cromwell_workflow_monitor|INFO| Workflow: id=78209460-0005-47ff-8348-5b03f8aacaea, status=Running\n",
      "2022-07-11 11:25:05,989|caper.cromwell_workflow_monitor|INFO| Task: id=78209460-0005-47ff-8348-5b03f8aacaea, task=HelloInput.WriteGreeting:-1, retry=0, status=Started, job_id=projects/502848220343/locations/us-central1/operations/2054753389856018927\n",
      "2022-07-11 11:25:34,701|caper.cromwell_workflow_monitor|INFO| Task: id=78209460-0005-47ff-8348-5b03f8aacaea, task=HelloInput.WriteGreeting:-1, retry=0, status=Running\n",
      "2022-07-11 11:27:14,544|caper.cromwell_workflow_monitor|INFO| Task: id=78209460-0005-47ff-8348-5b03f8aacaea, task=HelloInput.WriteGreeting:-1, retry=0, status=Success\n",
      "2022-07-11 11:27:21,322|caper.cromwell_workflow_monitor|INFO| Workflow: id=78209460-0005-47ff-8348-5b03f8aacaea, status=Succeeded\n",
      "2022-07-11 11:27:39,105|caper.cromwell_metadata|INFO| Wrote metadata file. gs://schema2/HelloInput/78209460-0005-47ff-8348-5b03f8aacaea/metadata.json\n",
      "2022-07-11 11:27:39,105|caper.nb_subproc_thread|INFO| Cromwell finished successfully.\n"
     ]
    },
    {
     "name": "stderr",
     "output_type": "stream",
     "text": [
      "Initializing Hail with default parameters...\n",
      "Running on Apache Spark version 3.1.3\n",
      "SparkUI available at http://192.168.0.155:4040\n",
      "Welcome to\n",
      "     __  __     <>__\n",
      "    / /_/ /__  __/ /\n",
      "   / __  / _ `/ / /\n",
      "  /_/ /_/\\_,_/_/_/   version 0.2.94-f0b38d6c436f\n",
      "LOGGING: writing to /Users/tsingh/repos/wdlplay/notebook/hail-20220711-1127-0.2.94-f0b38d6c436f.log\n"
     ]
    }
   ],
   "source": [
    "output = runner.submit(\n",
    "    name='hello-world', \n",
    "    wdl=wdl,\n",
    "    inputs=inputs, server=False, gcp=is_cloud)\n"
   ]
  },
  {
   "cell_type": "code",
   "execution_count": 11,
   "metadata": {},
   "outputs": [
    {
     "data": {
      "text/plain": [
       "{'HelloInput.response': '/Users/tsingh/repos/wdlplay/data/0.1/HelloInput/c1e9ac8d-e1bf-45ed-ab1b-29e6552c88af/call-WriteGreeting/execution/hello.txt'}"
      ]
     },
     "execution_count": 11,
     "metadata": {},
     "output_type": "execute_result"
    }
   ],
   "source": [
    "runner.outputs"
   ]
  },
  {
   "cell_type": "code",
   "execution_count": 16,
   "metadata": {},
   "outputs": [
    {
     "data": {
      "text/plain": [
       "'/Users/tsingh/repos/wdlplay/data/0.1/HelloInput/c1e9ac8d-e1bf-45ed-ab1b-29e6552c88af'"
      ]
     },
     "execution_count": 16,
     "metadata": {},
     "output_type": "execute_result"
    }
   ],
   "source": [
    "runner.root"
   ]
  },
  {
   "cell_type": "code",
   "execution_count": null,
   "metadata": {},
   "outputs": [],
   "source": []
  }
 ],
 "metadata": {
  "interpreter": {
   "hash": "3527fa7c8d69e7b1ed8ecf85271b21c854d549a549df22dc09526b9a24317105"
  },
  "kernelspec": {
   "display_name": "Python 3.7.4 ('wdlplay')",
   "language": "python",
   "name": "python3"
  },
  "language_info": {
   "codemirror_mode": {
    "name": "ipython",
    "version": 3
   },
   "file_extension": ".py",
   "mimetype": "text/x-python",
   "name": "python",
   "nbconvert_exporter": "python",
   "pygments_lexer": "ipython3",
   "version": "3.7.4"
  },
  "orig_nbformat": 4,
  "vscode": {
   "interpreter": {
    "hash": "3527fa7c8d69e7b1ed8ecf85271b21c854d549a549df22dc09526b9a24317105"
   }
  }
 },
 "nbformat": 4,
 "nbformat_minor": 2
}
